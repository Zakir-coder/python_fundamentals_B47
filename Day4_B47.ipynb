{
 "cells": [
  {
   "cell_type": "code",
   "execution_count": null,
   "id": "4518c295",
   "metadata": {},
   "outputs": [],
   "source": [
    "introduction to list datatype:"
   ]
  },
  {
   "cell_type": "code",
   "execution_count": null,
   "id": "9eaedaf9",
   "metadata": {},
   "outputs": [],
   "source": [
    "overview: A list is a collection of item defined is a particular order.\n",
    " \n",
    "classification : list is classified as an mutable datatype (which we can edit or alter)\n",
    "    \n",
    "how to define the list --->[]"
   ]
  },
  {
   "cell_type": "code",
   "execution_count": null,
   "id": "a3adbdb1",
   "metadata": {},
   "outputs": [],
   "source": []
  },
  {
   "cell_type": "code",
   "execution_count": 2,
   "id": "3d25039c",
   "metadata": {},
   "outputs": [],
   "source": [
    "students = ['ayan','bala','charan','dayan','elaf']"
   ]
  },
  {
   "cell_type": "code",
   "execution_count": 3,
   "id": "b15549f3",
   "metadata": {},
   "outputs": [
    {
     "name": "stdout",
     "output_type": "stream",
     "text": [
      "['ayan', 'bala', 'charan', 'dayan', 'elaf']\n"
     ]
    }
   ],
   "source": [
    "print(students)"
   ]
  },
  {
   "cell_type": "code",
   "execution_count": 5,
   "id": "da854c9f",
   "metadata": {},
   "outputs": [
    {
     "name": "stdout",
     "output_type": "stream",
     "text": [
      "dayan\n"
     ]
    }
   ],
   "source": [
    "print(students[3])"
   ]
  },
  {
   "cell_type": "code",
   "execution_count": 6,
   "id": "05852208",
   "metadata": {},
   "outputs": [
    {
     "name": "stdout",
     "output_type": "stream",
     "text": [
      "Dayan\n"
     ]
    }
   ],
   "source": [
    "print(students[3].title())"
   ]
  },
  {
   "cell_type": "code",
   "execution_count": 7,
   "id": "7d9a0060",
   "metadata": {},
   "outputs": [
    {
     "name": "stdout",
     "output_type": "stream",
     "text": [
      "AYAN\n"
     ]
    }
   ],
   "source": [
    "print(students[0].upper())"
   ]
  },
  {
   "cell_type": "code",
   "execution_count": null,
   "id": "097c5e94",
   "metadata": {},
   "outputs": [],
   "source": []
  },
  {
   "cell_type": "code",
   "execution_count": null,
   "id": "6955abeb",
   "metadata": {},
   "outputs": [],
   "source": [
    "1. how to add new elements to the list\n",
    "2. how to modify the elements in the list\n",
    "3. how to delete the elements in the list"
   ]
  },
  {
   "cell_type": "code",
   "execution_count": null,
   "id": "28d7b3a9",
   "metadata": {},
   "outputs": [],
   "source": [
    "1. how to add new elements to the list"
   ]
  },
  {
   "cell_type": "code",
   "execution_count": null,
   "id": "eac02c96",
   "metadata": {},
   "outputs": [],
   "source": []
  },
  {
   "cell_type": "code",
   "execution_count": null,
   "id": "b6025c96",
   "metadata": {},
   "outputs": [],
   "source": [
    "# req : i want to add faiz name to the students list."
   ]
  },
  {
   "cell_type": "code",
   "execution_count": 9,
   "id": "f4f8ca5c",
   "metadata": {},
   "outputs": [],
   "source": [
    "students.append('faiz')"
   ]
  },
  {
   "cell_type": "code",
   "execution_count": 10,
   "id": "9447a075",
   "metadata": {},
   "outputs": [
    {
     "name": "stdout",
     "output_type": "stream",
     "text": [
      "['ayan', 'bala', 'charan', 'dayan', 'elaf', 'faiz']\n"
     ]
    }
   ],
   "source": [
    "print(students)"
   ]
  },
  {
   "cell_type": "code",
   "execution_count": null,
   "id": "35095d2b",
   "metadata": {},
   "outputs": [],
   "source": [
    "# req : i want to add ilyas name to the students list."
   ]
  },
  {
   "cell_type": "code",
   "execution_count": 12,
   "id": "c3cd7fed",
   "metadata": {},
   "outputs": [],
   "source": [
    "students.append('ilyas')"
   ]
  },
  {
   "cell_type": "code",
   "execution_count": 13,
   "id": "6a951c9e",
   "metadata": {},
   "outputs": [
    {
     "name": "stdout",
     "output_type": "stream",
     "text": [
      "['ayan', 'bala', 'charan', 'dayan', 'elaf', 'faiz', 'ilyas']\n"
     ]
    }
   ],
   "source": [
    "print(students)"
   ]
  },
  {
   "cell_type": "code",
   "execution_count": null,
   "id": "43f19307",
   "metadata": {},
   "outputs": [],
   "source": [
    "# req : i want add stephen at 3rd index"
   ]
  },
  {
   "cell_type": "code",
   "execution_count": 14,
   "id": "23989e0f",
   "metadata": {},
   "outputs": [],
   "source": [
    "students.insert(3,'stephen')"
   ]
  },
  {
   "cell_type": "code",
   "execution_count": 15,
   "id": "51652bee",
   "metadata": {},
   "outputs": [
    {
     "name": "stdout",
     "output_type": "stream",
     "text": [
      "['ayan', 'bala', 'charan', 'stephen', 'dayan', 'elaf', 'faiz', 'ilyas']\n"
     ]
    }
   ],
   "source": [
    "print(students)"
   ]
  },
  {
   "cell_type": "code",
   "execution_count": null,
   "id": "21b08a63",
   "metadata": {},
   "outputs": [],
   "source": [
    "2. how to modify the elements in the list"
   ]
  },
  {
   "cell_type": "code",
   "execution_count": 16,
   "id": "379e1fb0",
   "metadata": {},
   "outputs": [
    {
     "name": "stdout",
     "output_type": "stream",
     "text": [
      "['ayan', 'bala', 'charan', 'stephen', 'dayan', 'elaf', 'faiz', 'ilyas']\n"
     ]
    }
   ],
   "source": [
    "print(students)"
   ]
  },
  {
   "cell_type": "code",
   "execution_count": null,
   "id": "ab135f3e",
   "metadata": {},
   "outputs": [],
   "source": [
    "# req : i want to modify stephen name as danita"
   ]
  },
  {
   "cell_type": "code",
   "execution_count": 18,
   "id": "6a5c66e7",
   "metadata": {},
   "outputs": [],
   "source": [
    "students[3]= \"danita\""
   ]
  },
  {
   "cell_type": "code",
   "execution_count": 19,
   "id": "2416d2ed",
   "metadata": {},
   "outputs": [
    {
     "name": "stdout",
     "output_type": "stream",
     "text": [
      "['ayan', 'bala', 'charan', 'danita', 'dayan', 'elaf', 'faiz', 'ilyas']\n"
     ]
    }
   ],
   "source": [
    "print(students)"
   ]
  },
  {
   "cell_type": "code",
   "execution_count": null,
   "id": "f5e754f3",
   "metadata": {},
   "outputs": [],
   "source": [
    "interveiw quetion : what is diff btw append and insert in a list method..."
   ]
  },
  {
   "cell_type": "code",
   "execution_count": null,
   "id": "15a305ac",
   "metadata": {},
   "outputs": [],
   "source": [
    "3. how to delete the elements in the list"
   ]
  },
  {
   "cell_type": "code",
   "execution_count": 20,
   "id": "087beb1f",
   "metadata": {},
   "outputs": [
    {
     "name": "stdout",
     "output_type": "stream",
     "text": [
      "['ayan', 'bala', 'charan', 'danita', 'dayan', 'elaf', 'faiz', 'ilyas']\n"
     ]
    }
   ],
   "source": [
    "print(students)"
   ]
  },
  {
   "cell_type": "code",
   "execution_count": null,
   "id": "b03c9056",
   "metadata": {},
   "outputs": [],
   "source": [
    "# req : i want delete dayan from the list "
   ]
  },
  {
   "cell_type": "code",
   "execution_count": 21,
   "id": "ee85151d",
   "metadata": {},
   "outputs": [],
   "source": [
    "del students[4]"
   ]
  },
  {
   "cell_type": "code",
   "execution_count": 22,
   "id": "453be756",
   "metadata": {},
   "outputs": [
    {
     "name": "stdout",
     "output_type": "stream",
     "text": [
      "['ayan', 'bala', 'charan', 'danita', 'elaf', 'faiz', 'ilyas']\n"
     ]
    }
   ],
   "source": [
    "print(students)"
   ]
  },
  {
   "cell_type": "code",
   "execution_count": 23,
   "id": "625f4abe",
   "metadata": {},
   "outputs": [],
   "source": [
    "students.insert(4,'dhayan')"
   ]
  },
  {
   "cell_type": "code",
   "execution_count": 24,
   "id": "98212fcd",
   "metadata": {},
   "outputs": [
    {
     "name": "stdout",
     "output_type": "stream",
     "text": [
      "['ayan', 'bala', 'charan', 'danita', 'dhayan', 'elaf', 'faiz', 'ilyas']\n"
     ]
    }
   ],
   "source": [
    "print(students)"
   ]
  },
  {
   "cell_type": "code",
   "execution_count": 25,
   "id": "eec16191",
   "metadata": {},
   "outputs": [],
   "source": [
    "del students[3]"
   ]
  },
  {
   "cell_type": "code",
   "execution_count": 26,
   "id": "dd28747f",
   "metadata": {},
   "outputs": [
    {
     "name": "stdout",
     "output_type": "stream",
     "text": [
      "['ayan', 'bala', 'charan', 'dhayan', 'elaf', 'faiz', 'ilyas']\n"
     ]
    }
   ],
   "source": [
    "print(students)"
   ]
  },
  {
   "cell_type": "code",
   "execution_count": null,
   "id": "9994e028",
   "metadata": {},
   "outputs": [],
   "source": []
  },
  {
   "cell_type": "code",
   "execution_count": null,
   "id": "438d70f9",
   "metadata": {},
   "outputs": [],
   "source": [
    "# temp way to delete the things..."
   ]
  },
  {
   "cell_type": "code",
   "execution_count": null,
   "id": "6a623082",
   "metadata": {},
   "outputs": [],
   "source": [
    "pop ---> by default it will be deleting the item free the list.\n",
    "\n",
    "it will be saving the deleted items in the variable assigned to it."
   ]
  },
  {
   "cell_type": "code",
   "execution_count": 28,
   "id": "8ec51160",
   "metadata": {},
   "outputs": [],
   "source": [
    "x = students.pop()"
   ]
  },
  {
   "cell_type": "code",
   "execution_count": 29,
   "id": "9ca8c3fe",
   "metadata": {},
   "outputs": [
    {
     "name": "stdout",
     "output_type": "stream",
     "text": [
      "['ayan', 'bala', 'charan', 'dhayan', 'elaf', 'faiz']\n"
     ]
    }
   ],
   "source": [
    "print(students)"
   ]
  },
  {
   "cell_type": "code",
   "execution_count": 30,
   "id": "31617b5f",
   "metadata": {},
   "outputs": [
    {
     "name": "stdout",
     "output_type": "stream",
     "text": [
      "ilyas\n"
     ]
    }
   ],
   "source": [
    "print(x)"
   ]
  },
  {
   "cell_type": "code",
   "execution_count": null,
   "id": "3ce11f2c",
   "metadata": {},
   "outputs": [],
   "source": [
    "pop value is carbon copy of temp deleted items."
   ]
  }
 ],
 "metadata": {
  "kernelspec": {
   "display_name": "Python 3",
   "language": "python",
   "name": "python3"
  },
  "language_info": {
   "codemirror_mode": {
    "name": "ipython",
    "version": 3
   },
   "file_extension": ".py",
   "mimetype": "text/x-python",
   "name": "python",
   "nbconvert_exporter": "python",
   "pygments_lexer": "ipython3",
   "version": "3.8.8"
  }
 },
 "nbformat": 4,
 "nbformat_minor": 5
}
