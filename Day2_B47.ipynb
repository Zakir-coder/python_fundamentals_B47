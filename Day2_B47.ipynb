{
 "cells": [
  {
   "cell_type": "code",
   "execution_count": null,
   "id": "f38454e1",
   "metadata": {},
   "outputs": [],
   "source": [
    "Rules for declaring the variable in Python;\n",
    "\n",
    "Rule no 1. A variable should not contain any name space while declaring it."
   ]
  },
  {
   "cell_type": "code",
   "execution_count": 4,
   "id": "d9f56e94",
   "metadata": {},
   "outputs": [
    {
     "name": "stdout",
     "output_type": "stream",
     "text": [
      "Zakir\n",
      "Hussain\n"
     ]
    }
   ],
   "source": [
    "firstname = 'Zakir'\n",
    "first_name = \"Hussain\"\n",
    "print(firstname)\n",
    "print(first_name)"
   ]
  },
  {
   "cell_type": "code",
   "execution_count": null,
   "id": "191b16dd",
   "metadata": {},
   "outputs": [],
   "source": [
    "Rule no 2. A variable should not start with a number."
   ]
  },
  {
   "cell_type": "code",
   "execution_count": 8,
   "id": "8928f5d8",
   "metadata": {},
   "outputs": [
    {
     "name": "stdout",
     "output_type": "stream",
     "text": [
      "Zakir_Hussain\n"
     ]
    }
   ],
   "source": [
    "name1 = \"\"\"Zakir_Hussain\"\"\"\n",
    "print(name1)"
   ]
  },
  {
   "cell_type": "code",
   "execution_count": null,
   "id": "64684b2a",
   "metadata": {},
   "outputs": [],
   "source": [
    "Rule no 3. A varoiable should not contain any special char\n",
    "@ $ % & ----> all are special char."
   ]
  },
  {
   "cell_type": "code",
   "execution_count": 9,
   "id": "4272c4f0",
   "metadata": {},
   "outputs": [
    {
     "ename": "SyntaxError",
     "evalue": "invalid syntax (<ipython-input-9-43c579b6c77c>, line 1)",
     "output_type": "error",
     "traceback": [
      "\u001b[1;36m  File \u001b[1;32m\"<ipython-input-9-43c579b6c77c>\"\u001b[1;36m, line \u001b[1;32m1\u001b[0m\n\u001b[1;33m    name$ = \"zakir\"\u001b[0m\n\u001b[1;37m        ^\u001b[0m\n\u001b[1;31mSyntaxError\u001b[0m\u001b[1;31m:\u001b[0m invalid syntax\n"
     ]
    }
   ],
   "source": [
    "name$ = \"zakir\"\n",
    "print(name$)"
   ]
  },
  {
   "cell_type": "code",
   "execution_count": null,
   "id": "b2569311",
   "metadata": {},
   "outputs": [],
   "source": [
    "Introduation to datatype in Python.\n",
    "\n",
    "1. String ---> str\n",
    "\n",
    "2. Numbers ---> integers(int) float(decimals)\n",
    "\n",
    "3. list ---> list \n",
    "\n",
    "4. tuple ---> tuple\n",
    "\n",
    "5. Dictinories ---> dict\n"
   ]
  },
  {
   "cell_type": "code",
   "execution_count": null,
   "id": "32379e5f",
   "metadata": {},
   "outputs": [],
   "source": [
    "classifiaction of datatype:\n",
    "    \n",
    "    datatype are broadly classified into two categories;\n",
    "    \n",
    "    1.mutable datatype ---> we can edit or alter the data ---> (flexible)\n",
    "    2.immutable datatype ---> we cannot edit or alter the data (fixed)"
   ]
  },
  {
   "cell_type": "code",
   "execution_count": null,
   "id": "daf32016",
   "metadata": {},
   "outputs": [],
   "source": []
  },
  {
   "cell_type": "code",
   "execution_count": null,
   "id": "6aec1946",
   "metadata": {},
   "outputs": [],
   "source": [
    "Introduction to string datatypes:"
   ]
  },
  {
   "cell_type": "code",
   "execution_count": null,
   "id": "361997cb",
   "metadata": {},
   "outputs": [],
   "source": [
    "Overview: A string is a series of char enclosed in quotes."
   ]
  },
  {
   "cell_type": "code",
   "execution_count": null,
   "id": "4b6f71c3",
   "metadata": {},
   "outputs": [],
   "source": [
    "classification : it is an immutable datatype "
   ]
  },
  {
   "cell_type": "code",
   "execution_count": null,
   "id": "53922b00",
   "metadata": {},
   "outputs": [],
   "source": [
    "How to define a string ---?"
   ]
  },
  {
   "cell_type": "code",
   "execution_count": null,
   "id": "055df41e",
   "metadata": {},
   "outputs": [],
   "source": [
    "3 possible combinations --->\n",
    "\n",
    "1. single quote ---> ''\n",
    "\n",
    "2. double quotes ---> \" \"\n",
    "\n",
    "3. triple quotes ---> \"\"\" \"\"\""
   ]
  },
  {
   "cell_type": "code",
   "execution_count": 14,
   "id": "efe81d36",
   "metadata": {},
   "outputs": [
    {
     "name": "stdout",
     "output_type": "stream",
     "text": [
      "Nawab\n"
     ]
    }
   ],
   "source": [
    "Grand_father_name = 'Nawab' #single quote\n",
    "print(Grand_father_name)"
   ]
  },
  {
   "cell_type": "code",
   "execution_count": 15,
   "id": "38f0fad5",
   "metadata": {},
   "outputs": [
    {
     "name": "stdout",
     "output_type": "stream",
     "text": [
      "Azam\n"
     ]
    }
   ],
   "source": [
    "father_name = \"Azam\" #double qoutes\n",
    "print(father_name)"
   ]
  },
  {
   "cell_type": "code",
   "execution_count": 16,
   "id": "b9f81beb",
   "metadata": {},
   "outputs": [
    {
     "name": "stdout",
     "output_type": "stream",
     "text": [
      "Zakir\n"
     ]
    }
   ],
   "source": [
    "myname = \"\"\"Zakir\"\"\" #triple qoutes\n",
    "print(myname)"
   ]
  },
  {
   "cell_type": "code",
   "execution_count": 18,
   "id": "51e41ec8",
   "metadata": {},
   "outputs": [],
   "source": [
    "# is used for commenting the line ---> it is not treated as code and it will ignore when you execute it."
   ]
  },
  {
   "cell_type": "code",
   "execution_count": null,
   "id": "3af00a1a",
   "metadata": {},
   "outputs": [],
   "source": []
  },
  {
   "cell_type": "code",
   "execution_count": null,
   "id": "6c78cfe0",
   "metadata": {},
   "outputs": [],
   "source": [
    "Introduction to string method:"
   ]
  },
  {
   "cell_type": "code",
   "execution_count": null,
   "id": "a07e931c",
   "metadata": {},
   "outputs": [],
   "source": [
    "Overview: method are builtin program in Python"
   ]
  },
  {
   "cell_type": "code",
   "execution_count": null,
   "id": "ed967f2c",
   "metadata": {},
   "outputs": [],
   "source": [
    "type ---> it is used for confirming the datatype"
   ]
  },
  {
   "cell_type": "code",
   "execution_count": 20,
   "id": "45827d67",
   "metadata": {},
   "outputs": [
    {
     "data": {
      "text/plain": [
       "str"
      ]
     },
     "execution_count": 20,
     "metadata": {},
     "output_type": "execute_result"
    }
   ],
   "source": [
    "type(name)"
   ]
  },
  {
   "cell_type": "code",
   "execution_count": 22,
   "id": "4f94285c",
   "metadata": {},
   "outputs": [
    {
     "data": {
      "text/plain": [
       "str"
      ]
     },
     "execution_count": 22,
     "metadata": {},
     "output_type": "execute_result"
    }
   ],
   "source": [
    "type(name1)"
   ]
  },
  {
   "cell_type": "code",
   "execution_count": 23,
   "id": "adcde751",
   "metadata": {},
   "outputs": [
    {
     "data": {
      "text/plain": [
       "str"
      ]
     },
     "execution_count": 23,
     "metadata": {},
     "output_type": "execute_result"
    }
   ],
   "source": [
    "type(father_name)"
   ]
  },
  {
   "cell_type": "code",
   "execution_count": null,
   "id": "1aefe278",
   "metadata": {},
   "outputs": [],
   "source": []
  }
 ],
 "metadata": {
  "kernelspec": {
   "display_name": "Python 3",
   "language": "python",
   "name": "python3"
  },
  "language_info": {
   "codemirror_mode": {
    "name": "ipython",
    "version": 3
   },
   "file_extension": ".py",
   "mimetype": "text/x-python",
   "name": "python",
   "nbconvert_exporter": "python",
   "pygments_lexer": "ipython3",
   "version": "3.8.8"
  }
 },
 "nbformat": 4,
 "nbformat_minor": 5
}
