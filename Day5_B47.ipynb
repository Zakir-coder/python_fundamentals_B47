{
 "cells": [
  {
   "cell_type": "code",
   "execution_count": null,
   "id": "18d8b8af",
   "metadata": {},
   "outputs": [],
   "source": [
    "Organising the list datatype:"
   ]
  },
  {
   "cell_type": "code",
   "execution_count": null,
   "id": "f28b6fc6",
   "metadata": {},
   "outputs": [],
   "source": []
  },
  {
   "cell_type": "code",
   "execution_count": 4,
   "id": "db675c53",
   "metadata": {},
   "outputs": [],
   "source": [
    "cars = ['toyota','audi','maruthi','suzuki','kia','bmw','benz','honda']"
   ]
  },
  {
   "cell_type": "code",
   "execution_count": null,
   "id": "8a055e88",
   "metadata": {},
   "outputs": [],
   "source": []
  },
  {
   "cell_type": "code",
   "execution_count": null,
   "id": "bf5fe64f",
   "metadata": {},
   "outputs": [],
   "source": [
    "# req : i want to organise the above list in a alphabetical order ----A - Z...?"
   ]
  },
  {
   "cell_type": "code",
   "execution_count": null,
   "id": "6904ad87",
   "metadata": {},
   "outputs": [],
   "source": [
    "# solution : 2 possible approaches we can do that.\n",
    "\n",
    "1. temp approach --------> sorted\n",
    "\n",
    "2. permanent approach ----> sort"
   ]
  },
  {
   "cell_type": "code",
   "execution_count": null,
   "id": "073570bc",
   "metadata": {},
   "outputs": [],
   "source": []
  },
  {
   "cell_type": "code",
   "execution_count": 5,
   "id": "82706b24",
   "metadata": {},
   "outputs": [
    {
     "name": "stdout",
     "output_type": "stream",
     "text": [
      "['audi', 'benz', 'bmw', 'honda', 'kia', 'maruthi', 'suzuki', 'toyota']\n"
     ]
    }
   ],
   "source": [
    "print(sorted(cars)) # A - Z"
   ]
  },
  {
   "cell_type": "code",
   "execution_count": null,
   "id": "fdeb87eb",
   "metadata": {},
   "outputs": [],
   "source": []
  },
  {
   "cell_type": "code",
   "execution_count": null,
   "id": "988d7e99",
   "metadata": {},
   "outputs": [],
   "source": [
    "Note : In the temp approach we will be having the original order of the list...!"
   ]
  },
  {
   "cell_type": "code",
   "execution_count": 6,
   "id": "461157ef",
   "metadata": {},
   "outputs": [
    {
     "name": "stdout",
     "output_type": "stream",
     "text": [
      "['toyota', 'audi', 'maruthi', 'suzuki', 'kia', 'bmw', 'benz', 'honda']\n"
     ]
    }
   ],
   "source": [
    "print(cars) #original order..."
   ]
  },
  {
   "cell_type": "code",
   "execution_count": null,
   "id": "887cd6fd",
   "metadata": {},
   "outputs": [],
   "source": [
    "2. permanent approach -----> sort"
   ]
  },
  {
   "cell_type": "code",
   "execution_count": null,
   "id": "3d37eb93",
   "metadata": {},
   "outputs": [],
   "source": []
  },
  {
   "cell_type": "code",
   "execution_count": 7,
   "id": "cd531922",
   "metadata": {},
   "outputs": [],
   "source": [
    "cars.sort()"
   ]
  },
  {
   "cell_type": "code",
   "execution_count": 8,
   "id": "f2b1fd02",
   "metadata": {},
   "outputs": [
    {
     "name": "stdout",
     "output_type": "stream",
     "text": [
      "['audi', 'benz', 'bmw', 'honda', 'kia', 'maruthi', 'suzuki', 'toyota']\n"
     ]
    }
   ],
   "source": [
    "print(cars)"
   ]
  },
  {
   "cell_type": "code",
   "execution_count": 9,
   "id": "002090aa",
   "metadata": {},
   "outputs": [
    {
     "name": "stdout",
     "output_type": "stream",
     "text": [
      "['audi', 'benz', 'bmw', 'honda', 'kia', 'maruthi', 'suzuki', 'toyota']\n"
     ]
    }
   ],
   "source": [
    "print(cars)"
   ]
  },
  {
   "cell_type": "code",
   "execution_count": null,
   "id": "f1e7a069",
   "metadata": {},
   "outputs": [],
   "source": []
  },
  {
   "cell_type": "code",
   "execution_count": null,
   "id": "106a3040",
   "metadata": {},
   "outputs": [],
   "source": [
    "interveiw question : what is the diff btw sorted vs sort method in a list...?"
   ]
  },
  {
   "cell_type": "code",
   "execution_count": null,
   "id": "c9289528",
   "metadata": {},
   "outputs": [],
   "source": []
  },
  {
   "cell_type": "code",
   "execution_count": 10,
   "id": "e2813ad9",
   "metadata": {},
   "outputs": [
    {
     "name": "stdout",
     "output_type": "stream",
     "text": [
      "['audi', 'benz', 'bmw', 'honda', 'kia', 'maruthi', 'suzuki', 'toyota']\n"
     ]
    }
   ],
   "source": [
    "print(cars)"
   ]
  },
  {
   "cell_type": "code",
   "execution_count": null,
   "id": "72132d4e",
   "metadata": {},
   "outputs": [],
   "source": []
  },
  {
   "cell_type": "code",
   "execution_count": null,
   "id": "208fef23",
   "metadata": {},
   "outputs": [],
   "source": [
    "#how to print the list in a reverse order...."
   ]
  },
  {
   "cell_type": "code",
   "execution_count": 11,
   "id": "63ec7a9b",
   "metadata": {},
   "outputs": [],
   "source": [
    "cars.reverse()"
   ]
  },
  {
   "cell_type": "code",
   "execution_count": 12,
   "id": "1e6a629a",
   "metadata": {},
   "outputs": [
    {
     "name": "stdout",
     "output_type": "stream",
     "text": [
      "['toyota', 'suzuki', 'maruthi', 'kia', 'honda', 'bmw', 'benz', 'audi']\n"
     ]
    }
   ],
   "source": [
    "print(cars)"
   ]
  },
  {
   "cell_type": "code",
   "execution_count": null,
   "id": "44782903",
   "metadata": {},
   "outputs": [],
   "source": []
  },
  {
   "cell_type": "code",
   "execution_count": null,
   "id": "84a66b98",
   "metadata": {},
   "outputs": [],
   "source": [
    "# req : how to count the number of elements present in the list...?"
   ]
  },
  {
   "cell_type": "code",
   "execution_count": 13,
   "id": "c8466338",
   "metadata": {},
   "outputs": [
    {
     "data": {
      "text/plain": [
       "8"
      ]
     },
     "execution_count": 13,
     "metadata": {},
     "output_type": "execute_result"
    }
   ],
   "source": [
    "len(cars)"
   ]
  },
  {
   "cell_type": "code",
   "execution_count": null,
   "id": "f5ffcb15",
   "metadata": {},
   "outputs": [],
   "source": []
  },
  {
   "cell_type": "code",
   "execution_count": null,
   "id": "76d59fae",
   "metadata": {},
   "outputs": [],
   "source": [
    "Note : python is a case sensitive langauge."
   ]
  },
  {
   "cell_type": "code",
   "execution_count": null,
   "id": "26878163",
   "metadata": {},
   "outputs": [],
   "source": []
  },
  {
   "cell_type": "code",
   "execution_count": null,
   "id": "a777925a",
   "metadata": {},
   "outputs": [],
   "source": [
    "#zen of python --->"
   ]
  },
  {
   "cell_type": "code",
   "execution_count": 14,
   "id": "2983d46d",
   "metadata": {},
   "outputs": [
    {
     "name": "stdout",
     "output_type": "stream",
     "text": [
      "The Zen of Python, by Tim Peters\n",
      "\n",
      "Beautiful is better than ugly.\n",
      "Explicit is better than implicit.\n",
      "Simple is better than complex.\n",
      "Complex is better than complicated.\n",
      "Flat is better than nested.\n",
      "Sparse is better than dense.\n",
      "Readability counts.\n",
      "Special cases aren't special enough to break the rules.\n",
      "Although practicality beats purity.\n",
      "Errors should never pass silently.\n",
      "Unless explicitly silenced.\n",
      "In the face of ambiguity, refuse the temptation to guess.\n",
      "There should be one-- and preferably only one --obvious way to do it.\n",
      "Although that way may not be obvious at first unless you're Dutch.\n",
      "Now is better than never.\n",
      "Although never is often better than *right* now.\n",
      "If the implementation is hard to explain, it's a bad idea.\n",
      "If the implementation is easy to explain, it may be a good idea.\n",
      "Namespaces are one honking great idea -- let's do more of those!\n"
     ]
    }
   ],
   "source": [
    "import this"
   ]
  },
  {
   "cell_type": "code",
   "execution_count": null,
   "id": "a2a8b04e",
   "metadata": {},
   "outputs": [],
   "source": []
  }
 ],
 "metadata": {
  "kernelspec": {
   "display_name": "Python 3",
   "language": "python",
   "name": "python3"
  },
  "language_info": {
   "codemirror_mode": {
    "name": "ipython",
    "version": 3
   },
   "file_extension": ".py",
   "mimetype": "text/x-python",
   "name": "python",
   "nbconvert_exporter": "python",
   "pygments_lexer": "ipython3",
   "version": "3.8.8"
  }
 },
 "nbformat": 4,
 "nbformat_minor": 5
}
