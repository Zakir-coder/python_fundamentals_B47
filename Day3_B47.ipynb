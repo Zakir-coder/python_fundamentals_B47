{
 "cells": [
  {
   "cell_type": "code",
   "execution_count": null,
   "id": "0cf1a314",
   "metadata": {},
   "outputs": [],
   "source": [
    "Introduction to string methods"
   ]
  },
  {
   "cell_type": "code",
   "execution_count": null,
   "id": "e3a05437",
   "metadata": {},
   "outputs": [],
   "source": []
  },
  {
   "cell_type": "code",
   "execution_count": 10,
   "id": "f0415746",
   "metadata": {},
   "outputs": [
    {
     "name": "stdout",
     "output_type": "stream",
     "text": [
      "john\n"
     ]
    }
   ],
   "source": [
    "name ='john'\n",
    "print(name)"
   ]
  },
  {
   "cell_type": "code",
   "execution_count": null,
   "id": "231768bf",
   "metadata": {},
   "outputs": [],
   "source": []
  },
  {
   "cell_type": "code",
   "execution_count": 11,
   "id": "02b0353b",
   "metadata": {},
   "outputs": [
    {
     "data": {
      "text/plain": [
       "str"
      ]
     },
     "execution_count": 11,
     "metadata": {},
     "output_type": "execute_result"
    }
   ],
   "source": [
    "type(name)"
   ]
  },
  {
   "cell_type": "code",
   "execution_count": null,
   "id": "819fe79a",
   "metadata": {},
   "outputs": [],
   "source": []
  },
  {
   "cell_type": "code",
   "execution_count": 13,
   "id": "712eedb0",
   "metadata": {},
   "outputs": [
    {
     "name": "stdout",
     "output_type": "stream",
     "text": [
      "zakir hussain\n"
     ]
    }
   ],
   "source": [
    "full_name = \"zakir hussain\"\n",
    "print(full_name)"
   ]
  },
  {
   "cell_type": "code",
   "execution_count": null,
   "id": "a66bc857",
   "metadata": {},
   "outputs": [],
   "source": [
    "#req : to correct the format by using string methods...!"
   ]
  },
  {
   "cell_type": "code",
   "execution_count": 14,
   "id": "e6d7329e",
   "metadata": {},
   "outputs": [
    {
     "name": "stdout",
     "output_type": "stream",
     "text": [
      "Zakir Hussain\n"
     ]
    }
   ],
   "source": [
    "print(full_name.title())"
   ]
  },
  {
   "cell_type": "code",
   "execution_count": null,
   "id": "aeb527e9",
   "metadata": {},
   "outputs": [],
   "source": [
    "#req : i want to have the fullname in total capital letters...!"
   ]
  },
  {
   "cell_type": "code",
   "execution_count": 15,
   "id": "41ca37fe",
   "metadata": {},
   "outputs": [
    {
     "name": "stdout",
     "output_type": "stream",
     "text": [
      "ZAKIR HUSSAIN\n"
     ]
    }
   ],
   "source": [
    "print(full_name.upper())"
   ]
  },
  {
   "cell_type": "code",
   "execution_count": null,
   "id": "6071f76c",
   "metadata": {},
   "outputs": [],
   "source": [
    "#req : i want to have the fullname in small letter..!"
   ]
  },
  {
   "cell_type": "code",
   "execution_count": 17,
   "id": "0cd93edf",
   "metadata": {},
   "outputs": [
    {
     "name": "stdout",
     "output_type": "stream",
     "text": [
      "zakir hussain\n"
     ]
    }
   ],
   "source": [
    "print(full_name.lower())"
   ]
  },
  {
   "cell_type": "code",
   "execution_count": null,
   "id": "8301c090",
   "metadata": {},
   "outputs": [],
   "source": []
  },
  {
   "cell_type": "code",
   "execution_count": null,
   "id": "f5b5aef8",
   "metadata": {},
   "outputs": [],
   "source": [
    "introduction to f strings **"
   ]
  },
  {
   "cell_type": "code",
   "execution_count": null,
   "id": "2e195889",
   "metadata": {},
   "outputs": [],
   "source": [
    "# genral syntax of f strings: "
   ]
  },
  {
   "cell_type": "code",
   "execution_count": null,
   "id": "206d246d",
   "metadata": {},
   "outputs": [],
   "source": [
    "f\" custom words {placeholder1} {placeholder2} ...{placeholdern}\""
   ]
  },
  {
   "cell_type": "code",
   "execution_count": 22,
   "id": "e4199196",
   "metadata": {},
   "outputs": [],
   "source": [
    "firstname ='syed'\n",
    "lastname ='sha'"
   ]
  },
  {
   "cell_type": "code",
   "execution_count": null,
   "id": "d530eafe",
   "metadata": {},
   "outputs": [],
   "source": [
    "# i want to get the fullname..!"
   ]
  },
  {
   "cell_type": "code",
   "execution_count": 23,
   "id": "664f0a0b",
   "metadata": {},
   "outputs": [
    {
     "name": "stdout",
     "output_type": "stream",
     "text": [
      "syed sha\n"
     ]
    }
   ],
   "source": [
    "fullname = f\"{firstname} {lastname}\"\n",
    "\n",
    "print(fullname)"
   ]
  },
  {
   "cell_type": "code",
   "execution_count": 24,
   "id": "7b88229f",
   "metadata": {},
   "outputs": [
    {
     "name": "stdout",
     "output_type": "stream",
     "text": [
      "Syed Sha\n"
     ]
    }
   ],
   "source": [
    "print(fullname.title())"
   ]
  },
  {
   "cell_type": "code",
   "execution_count": null,
   "id": "7538f806",
   "metadata": {},
   "outputs": [],
   "source": [
    "# req : i want to appreciate syed"
   ]
  },
  {
   "cell_type": "code",
   "execution_count": 27,
   "id": "24b8928e",
   "metadata": {},
   "outputs": [
    {
     "name": "stdout",
     "output_type": "stream",
     "text": [
      "keep up the good work, Syed Sha\n"
     ]
    }
   ],
   "source": [
    "print(f\"keep up the good work, {fullname.title()}\")"
   ]
  },
  {
   "cell_type": "code",
   "execution_count": null,
   "id": "b2df77d4",
   "metadata": {},
   "outputs": [],
   "source": []
  },
  {
   "cell_type": "code",
   "execution_count": null,
   "id": "4765d194",
   "metadata": {},
   "outputs": [],
   "source": [
    "aading whitespace to string:"
   ]
  },
  {
   "cell_type": "code",
   "execution_count": null,
   "id": "41439fda",
   "metadata": {},
   "outputs": [],
   "source": []
  },
  {
   "cell_type": "code",
   "execution_count": null,
   "id": "93d2e899",
   "metadata": {},
   "outputs": [],
   "source": [
    "# req : conducting a survey to choose their fav programming language. "
   ]
  },
  {
   "cell_type": "code",
   "execution_count": 28,
   "id": "aff42633",
   "metadata": {},
   "outputs": [
    {
     "name": "stdout",
     "output_type": "stream",
     "text": [
      "favourite_programming_language:pythonjavacc++javascript\n"
     ]
    }
   ],
   "source": [
    "print(\"favourite_programming_language:pythonjavacc++javascript\")"
   ]
  },
  {
   "cell_type": "code",
   "execution_count": 29,
   "id": "dfba25ad",
   "metadata": {},
   "outputs": [
    {
     "name": "stdout",
     "output_type": "stream",
     "text": [
      "favourite_programming_language:\n",
      "python\n",
      "java\n",
      "c\n",
      "c++\n",
      "javascript\n"
     ]
    }
   ],
   "source": [
    "print(\"favourite_programming_language:\\npython\\njava\\nc\\nc++\\njavascript\")"
   ]
  },
  {
   "cell_type": "code",
   "execution_count": 30,
   "id": "c12d61be",
   "metadata": {},
   "outputs": [
    {
     "name": "stdout",
     "output_type": "stream",
     "text": [
      "favourite_programming_language:\n",
      "\tpython\n",
      "\tjava\n",
      "\tc\n",
      "\tc++\n",
      "\tjavascript\n"
     ]
    }
   ],
   "source": [
    "print(\"favourite_programming_language:\\n\\tpython\\n\\tjava\\n\\tc\\n\\tc++\\n\\tjavascript\")"
   ]
  },
  {
   "cell_type": "code",
   "execution_count": null,
   "id": "47706ce2",
   "metadata": {},
   "outputs": [],
   "source": [
    "#\\n ---> new line delimiter"
   ]
  },
  {
   "cell_type": "code",
   "execution_count": null,
   "id": "dcd23761",
   "metadata": {},
   "outputs": [],
   "source": [
    "#\\t ---> tab delimiter"
   ]
  }
 ],
 "metadata": {
  "kernelspec": {
   "display_name": "Python 3",
   "language": "python",
   "name": "python3"
  },
  "language_info": {
   "codemirror_mode": {
    "name": "ipython",
    "version": 3
   },
   "file_extension": ".py",
   "mimetype": "text/x-python",
   "name": "python",
   "nbconvert_exporter": "python",
   "pygments_lexer": "ipython3",
   "version": "3.8.8"
  }
 },
 "nbformat": 4,
 "nbformat_minor": 5
}
